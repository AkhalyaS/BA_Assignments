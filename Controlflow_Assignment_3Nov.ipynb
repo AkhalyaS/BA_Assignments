{
 "cells": [
  {
   "cell_type": "code",
   "execution_count": 10,
   "id": "86a58fc2",
   "metadata": {},
   "outputs": [
    {
     "name": "stdout",
     "output_type": "stream",
     "text": [
      "Please enter the length in centimeters :5\n",
      "The length in inches : 2.0\n"
     ]
    }
   ],
   "source": [
    "# Q1. Write a program that asks user to enter a length in centimeters. \n",
    "# If negative value is entered, the program should tell the user that the entry is invalid. \n",
    "# Otherwise the program should convert the length to inches and print out the result. \n",
    "# There are 2.54 centimeters in inches.\n",
    "\n",
    "len=float(input(\"Please enter the length in centimeters :\"))\n",
    "if len<=0:\n",
    "    print (\"entry is invalid!\")\n",
    "else:\n",
    "    print(\"The length in inches :\", len/2.5)"
   ]
  },
  {
   "cell_type": "code",
   "execution_count": 10,
   "id": "bf03e907",
   "metadata": {},
   "outputs": [
    {
     "name": "stdout",
     "output_type": "stream",
     "text": [
      "enter sentence :hello hi hi am i i\n",
      "hello appears 1 times.\n",
      "hi appears 2 times.\n",
      "am appears 1 times.\n",
      "i appears 2 times.\n"
     ]
    }
   ],
   "source": [
    "# Q2. Write a program that accepts sentence from the user as input \n",
    "# and then print the unique words present in that sentense along with the number of times they appeared in the sentence. \n",
    "# Don't use any of the built in fuction instead use for loop and if conditions.\n",
    "\n",
    "str_lst=input(\"enter sentence :\").split()\n",
    "check_list=[]\n",
    "for i in range(len(str_lst)):\n",
    "    if str_lst[i] in check_list:\n",
    "        continue\n",
    "    else:\n",
    "        check_list.append(str_lst[i])\n",
    "        count=1\n",
    "        for j in str_lst[i+1:]:\n",
    "            if str_lst[i] == j:\n",
    "                count=count+1\n",
    "        print(f\"{str_lst[i]} appears {count} times.\")"
   ]
  },
  {
   "cell_type": "code",
   "execution_count": 8,
   "id": "e4863c6c",
   "metadata": {},
   "outputs": [
    {
     "name": "stdout",
     "output_type": "stream",
     "text": [
      "enter sentence :hello i am akhalya\n",
      "a appears in [8, 11, 14, 17] position\n",
      "e appears in [1] position\n",
      "i appears in [6] position\n",
      "o appears in [4] position\n"
     ]
    }
   ],
   "source": [
    "# Q3.Write a program that accepts sentence from the user as input and then print the location of each vowel in the sentence.\n",
    "\n",
    "list_a=[]\n",
    "list_e=[]\n",
    "list_i=[]\n",
    "list_o=[]\n",
    "list_u=[]\n",
    "\n",
    "my_str=input(\"enter sentence :\")\n",
    "my_str=my_str.lower()\n",
    "for i in range(len(my_str)):\n",
    "    if my_str[i]=='a':\n",
    "        list_a.append(i)\n",
    "    elif my_str[i]=='e':\n",
    "        list_e.append(i)\n",
    "    elif my_str[i]=='i':\n",
    "        list_i.append(i)\n",
    "    elif my_str[i]=='o':\n",
    "        list_o.append(i)\n",
    "    elif my_str[i]=='u':\n",
    "        list_u.append(i)\n",
    "if len(list_a)>0: print(f\"a appears in {list_a} position\")\n",
    "if len(list_e)>0: print(f\"e appears in {list_e} position\")\n",
    "if len(list_i)>0: print(f\"i appears in {list_i} position\")\n",
    "if len(list_o)>0: print(f\"o appears in {list_o} position\")\n",
    "if len(list_u)>0: print(f\"u appears in {list_u} position\")"
   ]
  },
  {
   "cell_type": "code",
   "execution_count": 1,
   "id": "08447a33",
   "metadata": {},
   "outputs": [
    {
     "name": "stdout",
     "output_type": "stream",
     "text": [
      "Enter a string to check if it is a palindrome or not :abba\n",
      "It is a palindrome\n"
     ]
    }
   ],
   "source": [
    "# Q4. Write a program that asks user to enter a word \n",
    "# and determines whether the word is palindrome or not. \n",
    "# A palindrome is a word that read the same backwards as forwards.\n",
    "\n",
    "my_str=input(\"Enter a string to check if it is a palindrome or not :\")\n",
    "my_str=my_str.lower()\n",
    "\n",
    "if my_str==my_str[::-1]:\n",
    "    print(\"It is a palindrome\")\n",
    "else:\n",
    "    print(\"It is not a palindrome\")"
   ]
  },
  {
   "cell_type": "code",
   "execution_count": 5,
   "id": "e8b6be53",
   "metadata": {},
   "outputs": [
    {
     "name": "stdout",
     "output_type": "stream",
     "text": [
      "1**2 = 1\t1**3 = 1\n",
      "2**2 = 4\t2**3 = 8\n",
      "3**2 = 9\t3**3 = 27\n",
      "4**2 = 16\t4**3 = 64\n",
      "5**2 = 25\t5**3 = 125\n",
      "6**2 = 36\t6**3 = 216\n",
      "7**2 = 49\t7**3 = 343\n",
      "8**2 = 64\t8**3 = 512\n",
      "9**2 = 81\t9**3 = 729\n",
      "10**2 = 100\t10**3 = 1000\n"
     ]
    }
   ],
   "source": [
    "# Q5. Write a program using while loop that prints square and cube of numbers between 1 to 10.\n",
    "\n",
    "i=1\n",
    "while i<=10:\n",
    "    print(f\"{i}**2 = {i**2}\\t{i}**3 = {i**3}\")\n",
    "    i=i+1\n",
    "    "
   ]
  },
  {
   "cell_type": "code",
   "execution_count": 12,
   "id": "52b5e4b8",
   "metadata": {},
   "outputs": [
    {
     "name": "stdout",
     "output_type": "stream",
     "text": [
      "Enter the height of the triangle :4\n",
      "@\n",
      "@@\n",
      "@@@\n",
      "@@@@\n"
     ]
    }
   ],
   "source": [
    "# Q6. Use a for loop to print a triangle like the one below. Allow the user to specify how high the triangle should be.\n",
    "\n",
    "h=int(input(\"Enter the height of the triangle :\"))\n",
    "for i in range(1,h+1):\n",
    "        print(\"@\"*i)\n"
   ]
  },
  {
   "cell_type": "code",
   "execution_count": 15,
   "id": "944b8b67",
   "metadata": {},
   "outputs": [
    {
     "name": "stdout",
     "output_type": "stream",
     "text": [
      "Enter the password :Coding\n",
      "Password id inorrect! Enter the correct password :Coding\n",
      "Password id inorrect! Enter the correct password :svfva\n",
      "Password id inorrect! Enter the correct password :asfvav\n",
      "Password id inorrect! Enter the correct password :asvafsv\n",
      "You are kicked off the system!\n"
     ]
    }
   ],
   "source": [
    "# Q7. Write a program that asks the user to enter the password. \n",
    "# If the user enters the right password, the program should tell them they are logged in to the system. \n",
    "# Otherwise, the program should ask them to reenter the password. \n",
    "# The user should get only five tries to enter the password, \n",
    "# after which point the program should tell them that they are kicked off of the system.\n",
    "\n",
    "pwd='Coding1!'\n",
    "pwd_user=input(\"Enter the password :\")\n",
    "if pwd_user==pwd:\n",
    "    print(\"You are now logged in!\")\n",
    "else:\n",
    "    for i in range(4):\n",
    "        pwd_user=input(\"Password id inorrect! Enter the correct password :\")\n",
    "        if pwd_user==pwd:\n",
    "            print(\"You are now logged in!\")\n",
    "            break\n",
    "    if i==3:\n",
    "        print(\"You are kicked off the system!\")               \n"
   ]
  },
  {
   "cell_type": "code",
   "execution_count": null,
   "id": "75cdf1a1",
   "metadata": {},
   "outputs": [],
   "source": [
    "# Write a Python program to find those numbers which are divisible by 7 and multiple of 5, between 1500 and 2700 (both included).\n",
    "for i in range(1500,2701,5):\n",
    "    if i%7 == 0:\n",
    "        print(i)"
   ]
  },
  {
   "cell_type": "code",
   "execution_count": 16,
   "id": "be83afa7",
   "metadata": {},
   "outputs": [
    {
     "name": "stdout",
     "output_type": "stream",
     "text": [
      "1\n",
      "2\n",
      "Fizz\n",
      "4\n",
      "Buzz\n",
      "Fizz\n",
      "7\n",
      "8\n",
      "Fizz\n",
      "Buzz\n",
      "11\n",
      "Fizz\n",
      "13\n",
      "14\n",
      "FizzBuzz\n",
      "16\n",
      "17\n",
      "Fizz\n",
      "19\n",
      "Buzz\n",
      "Fizz\n",
      "22\n",
      "23\n",
      "Fizz\n",
      "Buzz\n",
      "26\n",
      "Fizz\n",
      "28\n",
      "29\n",
      "FizzBuzz\n",
      "31\n",
      "32\n",
      "Fizz\n",
      "34\n",
      "Buzz\n",
      "Fizz\n",
      "37\n",
      "38\n",
      "Fizz\n",
      "Buzz\n",
      "41\n",
      "Fizz\n",
      "43\n",
      "44\n",
      "FizzBuzz\n",
      "46\n",
      "47\n",
      "Fizz\n",
      "49\n",
      "Buzz\n"
     ]
    }
   ],
   "source": [
    "#  Write a Python program which iterates the integers from 1 to 50.\n",
    "# For multiples of 3 print \"Fizz\" instead of the number and for the multiples of 5 print \"Buzz\".\n",
    "# For numbers which are multiples of both three and five print \"FizzBuzz\".\n",
    "for i in range(1,51):\n",
    "    if ((i%3)==0) and ((i%5)==0):\n",
    "        print(\"FizzBuzz\")    \n",
    "    elif (i%3)==0:\n",
    "        print(\"Fizz\")\n",
    "    elif (i%5)==0:\n",
    "        print(\"Buzz\")\n",
    "    else:\n",
    "        print(i)\n"
   ]
  }
 ],
 "metadata": {
  "kernelspec": {
   "display_name": "Python 3 (ipykernel)",
   "language": "python",
   "name": "python3"
  },
  "language_info": {
   "codemirror_mode": {
    "name": "ipython",
    "version": 3
   },
   "file_extension": ".py",
   "mimetype": "text/x-python",
   "name": "python",
   "nbconvert_exporter": "python",
   "pygments_lexer": "ipython3",
   "version": "3.9.8"
  }
 },
 "nbformat": 4,
 "nbformat_minor": 5
}
