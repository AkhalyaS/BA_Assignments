{
 "cells": [
  {
   "cell_type": "code",
   "execution_count": 26,
   "id": "6d527ab7",
   "metadata": {},
   "outputs": [
    {
     "name": "stdout",
     "output_type": "stream",
     "text": [
      "All available programming languages are : {'C', 'C++', 'Python', 'R', 'Java'}\n",
      "The number of Data Science languages available are : 2\n",
      "Languages which are not data science languages {'C', 'C++', 'Java'}\n",
      "Both programming and data science languages : {'Python'}\n",
      "languges which are only data science languages : {'R'}\n"
     ]
    }
   ],
   "source": [
    "# Q1. Consider following set definitions.\n",
    "# language set - python, java, c, c++\n",
    "# data science language set - python, r\n",
    "\n",
    "#  Answer the following questions with help of appropriate code. \n",
    "#  (a) What are all programming languages are available?\n",
    "#  (b) How many data science languages are available?\n",
    "#  (c) List languages which are not data science languages?\n",
    "#  (d) List languages which are both programming language and data science languages.\n",
    "#  (e) List languges which are only data science languages.\n",
    "\n",
    "main_lang_set={\"Python\",\"Java\",\"C\",\"C++\"}\n",
    "ds_lang_set={\"Python\",\"R\"}\n",
    "all_lang=main_lang_set | ds_lang_set\n",
    "print(\"All available programming languages are :\", all_lang)\n",
    "print(\"The number of Data Science languages available are :\", len(ds_lang_set))\n",
    "print (\"Languages which are not data science languages\", main_lang_set - ds_lang_set)\n",
    "print(\"Both programming and data science languages :\", main_lang_set & ds_lang_set)\n",
    "print(\"Languges which are only data science languages :\", ds_lang_set - main_lang_set)"
   ]
  },
  {
   "cell_type": "code",
   "execution_count": 2,
   "id": "7c2bd371",
   "metadata": {},
   "outputs": [
    {
     "name": "stdout",
     "output_type": "stream",
     "text": [
      "Enter product name Price1 1\n",
      "Enter product name Price1 1\n",
      "Enter product name Price1 1\n",
      "Enter product name Price1 1\n",
      "Enter product name Price1 1\n",
      "Enter the product name you need the price for :1\n",
      "1\n"
     ]
    }
   ],
   "source": [
    "\"\"\"Q1. Write a program that asks user to enter the 5 product names and prices. \n",
    "Store all of these in a dictionary with keys are product names and prices are values. \n",
    "Then allow the user to input the product name and print the corresponding price of the product.\"\"\"\n",
    "\n",
    "product_dict = dict(input(\"Enter product name Price\").split() for i in range(5))\n",
    "pro_name=input(\"Enter the product name you need the price for :\")\n",
    "print(product_dict[pro_name])\n"
   ]
  },
  {
   "cell_type": "code",
   "execution_count": 3,
   "id": "e06ef99e",
   "metadata": {},
   "outputs": [
    {
     "name": "stdout",
     "output_type": "stream",
     "text": [
      "{'Jan': 31, 'Feb': 28, 'Mar': 31, 'Apr': 30, 'May': 31, 'Jun': 30, 'Jul': 31, 'Aug': 31, 'Sep': 30, 'Oct': 31, 'Nov': 30, 'Dec': 31}\n",
      "Enter the month :Sep\n",
      "Sep  has  30  days\n",
      "Months in alphabetical order : ['Apr', 'Aug', 'Dec', 'Feb', 'Jan', 'Jul', 'Jun', 'Mar', 'May', 'Nov', 'Oct', 'Sep']\n"
     ]
    }
   ],
   "source": [
    "# Q2. Create a dictionary where keys are name of months and days are values.\n",
    "# (a) Ask the user to input a month name and use the dictionary to tell how many days are in that month.\n",
    "# (b) Print out all the keys in alphabetical order.\n",
    "\n",
    "month_days_dict={\"Jan\":31,\"Feb\":28,\"Mar\":31,\"Apr\":30,\"May\":31,\"Jun\":30,\"Jul\":31,\"Aug\":31,\"Sep\":30,\"Oct\":31,\"Nov\":30,\"Dec\":31}\n",
    "print(month_days_dict)\n",
    "user_month=input(\"Enter the month :\")\n",
    "print(user_month,\" has \", month_days_dict[user_month], \" days\")\n",
    "month_list=list(month_days_dict.keys())\n",
    "month_list.sort()\n",
    "print(\"Months in alphabetical order :\",month_list)"
   ]
  },
  {
   "cell_type": "code",
   "execution_count": null,
   "id": "221fb121",
   "metadata": {},
   "outputs": [],
   "source": [
    "# Q3. Ask user 5 times to enter a team name and how many times the team own and how many they lost. \n",
    "# Store the information in a dictionary where the keys are team names and values are lists of form [wins, lossess].\n",
    "# (a) Using this dictionary, allow the user to enter a team name and print out the teams winning percentage.\n",
    "# (b) Using this dictionary, create a list whose entries are the number of wins of each team.\"\"\"\n",
    "\n",
    "team_name=[]\n",
    "win_lose=[]\n",
    "#Input data from user\n",
    "for i in range(5):\n",
    "    team_name.append(input(\"Enter team name: \"))\n",
    "    win_lose.append(input(\"enter wins and losses with a space inbetween: \").split(\" \"))\n",
    "#Transfer list data into dictionary\n",
    "team_dict = dict(zip(team_name, win_lose))\n",
    "print(team_dict)\n",
    "#Computing win percentage\n",
    "print(\"Total no. of matches played by each team : 4\")\n",
    "for key,value in team_dict.items():\n",
    "    print(f\"No. of wins for {key} :{team_dict[key][0]}\")\n",
    "    winning_percentage=(int(team_dict[key][0])/4)*100\n",
    "    print(f\"Winning percentage for {key} :\",int(winning_percentage),\"%\")\n",
    "    \n"
   ]
  }
 ],
 "metadata": {
  "kernelspec": {
   "display_name": "Python 3 (ipykernel)",
   "language": "python",
   "name": "python3"
  },
  "language_info": {
   "codemirror_mode": {
    "name": "ipython",
    "version": 3
   },
   "file_extension": ".py",
   "mimetype": "text/x-python",
   "name": "python",
   "nbconvert_exporter": "python",
   "pygments_lexer": "ipython3",
   "version": "3.9.7"
  }
 },
 "nbformat": 4,
 "nbformat_minor": 5
}
