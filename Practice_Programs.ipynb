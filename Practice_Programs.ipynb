{
 "cells": [
  {
   "cell_type": "code",
   "execution_count": null,
   "id": "048982ba",
   "metadata": {},
   "outputs": [],
   "source": [
    "a= eval(input(\"enter number 1 :\"))\n",
    "b=eval(input(\"enter second number :\"))\n",
    "if a>b:\n",
    "    print(\"First nunber is greater\")\n",
    "elif a<b:\n",
    "     print(\"second num is greater\")\n",
    "else:\n",
    "    print(\"both are equal\")"
   ]
  },
  {
   "cell_type": "code",
   "execution_count": 23,
   "id": "d23ac588",
   "metadata": {},
   "outputs": [
    {
     "name": "stdout",
     "output_type": "stream",
     "text": [
      "Enter color wavelength:620\n",
      "red\n"
     ]
    }
   ],
   "source": [
    "#Color Wavelength (nm)\n",
    "#Violet 380 to less than 450\n",
    "#Blue 450 to less than 495\n",
    "#Green 495 to less than 570\n",
    "#Yellow 570 to less than 590\n",
    "#Orange 590 to less than 620\n",
    "#Red 620 to 750\n",
    "\n",
    "#Write a program that reads a wavelength from the user and reports its color. Display\n",
    "#an appropriate error message if the wavelength entered by the user is outside of the\n",
    "#visible spectrum.\n",
    "# Mine\n",
    "\n",
    "wl=int(input(\"Enter color wavelength:\"))\n",
    "if wl<380 or wl>=750:\n",
    "    print(\"Enter a valid wavelength\")\n",
    "elif wl>=380 and wl<450:\n",
    "    print(\"Violet\")\n",
    "elif wl>=450 and wl<495:\n",
    "    print(\"blue\")\n",
    "elif wl>=495 and wl<570:\n",
    "    print(\"green\")\n",
    "elif wl>=570 and wl<590:\n",
    "    print(\"yellow\")\n",
    "elif wl>=590 and wl<620:\n",
    "    print(\"orange\")\n",
    "elif wl>=620 and wl<=750:\n",
    "    print(\"red\")"
   ]
  },
  {
   "cell_type": "code",
   "execution_count": null,
   "id": "a9765d06",
   "metadata": {},
   "outputs": [],
   "source": [
    "def draw_rectangle(len,h):\n",
    "    print(\"* \"*len)\n",
    "    for i in range(h-2):\n",
    "        print(\"*\",\" \"*(len),\"*\")\n",
    "    print(\"* \"*len)\n",
    "\n",
    "\n",
    "draw_rectangle(5,3)"
   ]
  },
  {
   "cell_type": "code",
   "execution_count": null,
   "id": "9af90715",
   "metadata": {},
   "outputs": [],
   "source": [
    "def greater(a,b,c):\n",
    "    if a>b and a>c:\n",
    "        print(f\"{a} is greater\")\n",
    "    elif b>a and b>c:\n",
    "        print(f\"{b} is greater\")\n",
    "    else:\n",
    "        print(f\"{c} is greater\")\n",
    "        \n",
    "a=eval(input(\"Enter first number\"))\n",
    "b=eval(input(\"Enter second number\"))\n",
    "c=eval(input(\"Enter third number\"))\n",
    "greater(a,b,c)"
   ]
  },
  {
   "cell_type": "code",
   "execution_count": null,
   "id": "7f22159c",
   "metadata": {},
   "outputs": [],
   "source": [
    "# Q4. Write a function called len_upper that accepts string as input \n",
    "# and returns the number of capital letters present in the string. \n",
    "# If no capital letters are present in the then prints the error message in the function then returns -1 as output.\n",
    "\n",
    "def len_upper(str):\n",
    "    count=0\n",
    "\n",
    "    for i in range(len(str)):\n",
    "        if str[i].isupper():\n",
    "            count=count+1\n",
    "            \n",
    "    if count == 0:\n",
    "        print(\"There are no capital letters\")\n",
    "        count = -1\n",
    "        \n",
    "    return count\n",
    "\n",
    "str=input(\"Enter string :\")\n",
    "count=len_upper(str)\n",
    "if count>0:\n",
    "    print(f\"The string has {count} capital letters\")\n"
   ]
  },
  {
   "cell_type": "code",
   "execution_count": null,
   "id": "e2708c96",
   "metadata": {},
   "outputs": [],
   "source": [
    "#coding bat programs\n",
    "\n",
    "a_smile = input()\n",
    "b_smile = input()\n",
    "print((a_smile == b_smile))\n",
    "# x=(a_smile == b_smile)\n",
    "# print(x)\n",
    "print(type(a_smile))\n",
    "\n",
    "# x= not a_smile\n",
    "# print(x)\n",
    "# x= not b_smile\n",
    "# print(x)\n",
    "\n",
    "# print(x, type(x))"
   ]
  },
  {
   "cell_type": "code",
   "execution_count": null,
   "id": "d6a5300d",
   "metadata": {},
   "outputs": [],
   "source": [
    "# not_string\n",
    "\n",
    "str=input()\n",
    "x=str[ :3]\n",
    "# print(x)\n",
    "if x!='not':\n",
    "    print('not ' + str)\n",
    "else:\n",
    "    print(str)"
   ]
  },
  {
   "cell_type": "code",
   "execution_count": null,
   "id": "f5d416a7",
   "metadata": {},
   "outputs": [],
   "source": [
    "# missing_char\n",
    "\n",
    "str=input(\"string :\")\n",
    "n=int(input(\"number :\"))\n",
    "x=str[:(n-1)]\n",
    "print(x)\n",
    "y=str[n:]\n",
    "print(y)\n",
    "print(x + y)"
   ]
  },
  {
   "cell_type": "code",
   "execution_count": null,
   "id": "796ad193",
   "metadata": {},
   "outputs": [],
   "source": [
    "# string_splosion Code = CCoCodCode\n",
    "\n",
    "str=input()\n",
    "result=\"\"\n",
    "for i in range(len(str)+1):\n",
    "    for j in range(i):\n",
    "        result=result+str[j]\n",
    "print(result)"
   ]
  },
  {
   "cell_type": "code",
   "execution_count": null,
   "id": "f6ec893f",
   "metadata": {},
   "outputs": [],
   "source": [
    "str=input()\n",
    "result = \"\"\n",
    "  # On each iteration, add the substring of the chars 0..i\n",
    "for i in range(len(str)):\n",
    "    result = result + str[:i+1]\n",
    "    print(result)\n",
    "print (result)"
   ]
  },
  {
   "cell_type": "code",
   "execution_count": null,
   "id": "3c21673d",
   "metadata": {},
   "outputs": [],
   "source": [
    "i=0\n",
    "  length=(len(str))\n",
    "  result=\"\"\n",
    "  while i = length:\n",
    "    # for i in range (length-1):\n",
    "    result=result+str[i]\n",
    "    i+=2\n",
    "  return result"
   ]
  },
  {
   "cell_type": "code",
   "execution_count": null,
   "id": "2f11f981",
   "metadata": {},
   "outputs": [],
   "source": [
    "# front_back\n",
    "\n",
    "str=input()\n",
    "start=str[:1]\n",
    "end=str[(len(str)-1):]\n",
    "middle=str[1:(len(str)-1)]\n",
    "print(start)\n",
    "print(middle)\n",
    "print(end)\n",
    "print(end+middle+start)"
   ]
  }
 ],
 "metadata": {
  "kernelspec": {
   "display_name": "Python 3 (ipykernel)",
   "language": "python",
   "name": "python3"
  },
  "language_info": {
   "codemirror_mode": {
    "name": "ipython",
    "version": 3
   },
   "file_extension": ".py",
   "mimetype": "text/x-python",
   "name": "python",
   "nbconvert_exporter": "python",
   "pygments_lexer": "ipython3",
   "version": "3.9.8"
  }
 },
 "nbformat": 4,
 "nbformat_minor": 5
}
